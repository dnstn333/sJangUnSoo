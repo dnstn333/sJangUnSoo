{
 "cells": [
  {
   "cell_type": "markdown",
   "metadata": {},
   "source": [
    "# Random Funtion\n",
    "* 4조 발표자 추첨용 랜덤 함수"
   ]
  },
  {
   "cell_type": "code",
   "execution_count": 12,
   "metadata": {
    "collapsed": false
   },
   "outputs": [
    {
     "name": "stdout",
     "output_type": "stream",
     "text": [
      "Minwoo\n"
     ]
    }
   ],
   "source": [
    "import random\n",
    "random.seed()\n",
    "result = random.randint(1,3)\n",
    "\n",
    "if result == 1:\n",
    "    print 'Unsoo'\n",
    "elif result == 2:\n",
    "    print 'Kunha'\n",
    "else:\n",
    "    print 'Minwoo'"
   ]
  }
 ],
 "metadata": {
  "kernelspec": {
   "display_name": "Python 2",
   "language": "python",
   "name": "python2"
  },
  "language_info": {
   "codemirror_mode": {
    "name": "ipython",
    "version": 2
   },
   "file_extension": ".py",
   "mimetype": "text/x-python",
   "name": "python",
   "nbconvert_exporter": "python",
   "pygments_lexer": "ipython2",
   "version": "2.7.11"
  }
 },
 "nbformat": 4,
 "nbformat_minor": 0
}
